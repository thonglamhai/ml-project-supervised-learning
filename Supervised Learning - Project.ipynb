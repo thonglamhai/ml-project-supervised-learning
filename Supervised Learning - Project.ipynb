{
 "cells": [
  {
   "cell_type": "markdown",
   "id": "3e985673",
   "metadata": {},
   "source": [
    "# Supervised Learning - Project"
   ]
  },
  {
   "cell_type": "markdown",
   "id": "08aa509e",
   "metadata": {},
   "source": [
    "In this Project, we are going to perform a full supervised learning machine learning project on a \"Diabetes\" dataset. This dataset is originally from the National Institute of Diabetes and Digestive and Kidney\n",
    "Diseases. The objective of the dataset is to diagnostically predict whether a patient has diabetes,\n",
    "based on certain diagnostic measurements included in the dataset. \n",
    "\n",
    "[Kaggle Dataset](https://www.kaggle.com/datasets/akshaydattatraykhare/diabetes-dataset)"
   ]
  },
  {
   "cell_type": "markdown",
   "id": "4e3e6a19",
   "metadata": {},
   "source": [
    "# Part I : EDA - Exploratory Data Analysis"
   ]
  },
  {
   "cell_type": "markdown",
   "id": "0d46714a",
   "metadata": {},
   "source": [
    "For this task, you are required to conduct an exploratory data analysis on the diabetes dataset. You have the freedom to choose the visualizations you want to use, but your analysis should cover the following tasks mostly:\n",
    "\n",
    "- Are there any missing values in the dataset?\n",
    "- How are the predictor variables related to the outcome variable?\n",
    "- What is the correlation between the predictor variables?\n",
    "- What is the distribution of each predictor variable?\n",
    "- Are there any outliers in the predictor variables?\n",
    "- How are the predictor variables related to each other?\n",
    "- Is there any interaction effect between the predictor variables?\n",
    "- What is the average age of the individuals in the dataset?\n",
    "- What is the average glucose level for individuals with diabetes and without diabetes?\n",
    "- What is the average BMI for individuals with diabetes and without diabetes?\n",
    "- How does the distribution of the predictor variables differ for individuals with diabetes and without diabetes?\n",
    "- Are there any differences in the predictor variables between males and females (if gender information is available)?"
   ]
  },
  {
   "cell_type": "code",
   "execution_count": 75,
   "id": "3041e6a8",
   "metadata": {},
   "outputs": [],
   "source": [
    "import pandas as pd\n",
    "import numpy as np\n",
    "import seaborn as sns\n",
    "import matplotlib.pyplot as plt"
   ]
  },
  {
   "cell_type": "code",
   "execution_count": 218,
   "id": "778fbf8e",
   "metadata": {},
   "outputs": [],
   "source": [
    "# loading the data\n",
    "df = pd.read_csv('diabetes.csv', index_col=False)"
   ]
  },
  {
   "cell_type": "code",
   "execution_count": 188,
   "id": "5076fbfe",
   "metadata": {},
   "outputs": [
    {
     "data": {
      "text/html": [
       "<div>\n",
       "<style scoped>\n",
       "    .dataframe tbody tr th:only-of-type {\n",
       "        vertical-align: middle;\n",
       "    }\n",
       "\n",
       "    .dataframe tbody tr th {\n",
       "        vertical-align: top;\n",
       "    }\n",
       "\n",
       "    .dataframe thead th {\n",
       "        text-align: right;\n",
       "    }\n",
       "</style>\n",
       "<table border=\"1\" class=\"dataframe\">\n",
       "  <thead>\n",
       "    <tr style=\"text-align: right;\">\n",
       "      <th></th>\n",
       "      <th>Pregnancies</th>\n",
       "      <th>Glucose</th>\n",
       "      <th>BloodPressure</th>\n",
       "      <th>SkinThickness</th>\n",
       "      <th>Insulin</th>\n",
       "      <th>BMI</th>\n",
       "      <th>DiabetesPedigreeFunction</th>\n",
       "      <th>Age</th>\n",
       "      <th>Outcome</th>\n",
       "    </tr>\n",
       "  </thead>\n",
       "  <tbody>\n",
       "    <tr>\n",
       "      <th>0</th>\n",
       "      <td>6</td>\n",
       "      <td>148</td>\n",
       "      <td>72</td>\n",
       "      <td>35</td>\n",
       "      <td>0</td>\n",
       "      <td>33.6</td>\n",
       "      <td>0.627</td>\n",
       "      <td>50</td>\n",
       "      <td>1</td>\n",
       "    </tr>\n",
       "    <tr>\n",
       "      <th>1</th>\n",
       "      <td>1</td>\n",
       "      <td>85</td>\n",
       "      <td>66</td>\n",
       "      <td>29</td>\n",
       "      <td>0</td>\n",
       "      <td>26.6</td>\n",
       "      <td>0.351</td>\n",
       "      <td>31</td>\n",
       "      <td>0</td>\n",
       "    </tr>\n",
       "    <tr>\n",
       "      <th>2</th>\n",
       "      <td>8</td>\n",
       "      <td>183</td>\n",
       "      <td>64</td>\n",
       "      <td>0</td>\n",
       "      <td>0</td>\n",
       "      <td>23.3</td>\n",
       "      <td>0.672</td>\n",
       "      <td>32</td>\n",
       "      <td>1</td>\n",
       "    </tr>\n",
       "    <tr>\n",
       "      <th>3</th>\n",
       "      <td>1</td>\n",
       "      <td>89</td>\n",
       "      <td>66</td>\n",
       "      <td>23</td>\n",
       "      <td>94</td>\n",
       "      <td>28.1</td>\n",
       "      <td>0.167</td>\n",
       "      <td>21</td>\n",
       "      <td>0</td>\n",
       "    </tr>\n",
       "    <tr>\n",
       "      <th>4</th>\n",
       "      <td>0</td>\n",
       "      <td>137</td>\n",
       "      <td>40</td>\n",
       "      <td>35</td>\n",
       "      <td>168</td>\n",
       "      <td>43.1</td>\n",
       "      <td>2.288</td>\n",
       "      <td>33</td>\n",
       "      <td>1</td>\n",
       "    </tr>\n",
       "  </tbody>\n",
       "</table>\n",
       "</div>"
      ],
      "text/plain": [
       "   Pregnancies  Glucose  BloodPressure  SkinThickness  Insulin   BMI  \\\n",
       "0            6      148             72             35        0  33.6   \n",
       "1            1       85             66             29        0  26.6   \n",
       "2            8      183             64              0        0  23.3   \n",
       "3            1       89             66             23       94  28.1   \n",
       "4            0      137             40             35      168  43.1   \n",
       "\n",
       "   DiabetesPedigreeFunction  Age  Outcome  \n",
       "0                     0.627   50        1  \n",
       "1                     0.351   31        0  \n",
       "2                     0.672   32        1  \n",
       "3                     0.167   21        0  \n",
       "4                     2.288   33        1  "
      ]
     },
     "execution_count": 188,
     "metadata": {},
     "output_type": "execute_result"
    }
   ],
   "source": [
    "# Take a first look into the data\n",
    "df.head()"
   ]
  },
  {
   "cell_type": "code",
   "execution_count": 189,
   "id": "56d37d2f",
   "metadata": {},
   "outputs": [
    {
     "data": {
      "text/html": [
       "<div>\n",
       "<style scoped>\n",
       "    .dataframe tbody tr th:only-of-type {\n",
       "        vertical-align: middle;\n",
       "    }\n",
       "\n",
       "    .dataframe tbody tr th {\n",
       "        vertical-align: top;\n",
       "    }\n",
       "\n",
       "    .dataframe thead th {\n",
       "        text-align: right;\n",
       "    }\n",
       "</style>\n",
       "<table border=\"1\" class=\"dataframe\">\n",
       "  <thead>\n",
       "    <tr style=\"text-align: right;\">\n",
       "      <th></th>\n",
       "      <th>Pregnancies</th>\n",
       "      <th>Glucose</th>\n",
       "      <th>BloodPressure</th>\n",
       "      <th>SkinThickness</th>\n",
       "      <th>Insulin</th>\n",
       "      <th>BMI</th>\n",
       "      <th>DiabetesPedigreeFunction</th>\n",
       "      <th>Age</th>\n",
       "      <th>Outcome</th>\n",
       "    </tr>\n",
       "  </thead>\n",
       "  <tbody>\n",
       "    <tr>\n",
       "      <th>count</th>\n",
       "      <td>768.000000</td>\n",
       "      <td>768.000000</td>\n",
       "      <td>768.000000</td>\n",
       "      <td>768.000000</td>\n",
       "      <td>768.000000</td>\n",
       "      <td>768.000000</td>\n",
       "      <td>768.000000</td>\n",
       "      <td>768.000000</td>\n",
       "      <td>768.000000</td>\n",
       "    </tr>\n",
       "    <tr>\n",
       "      <th>mean</th>\n",
       "      <td>3.845052</td>\n",
       "      <td>120.894531</td>\n",
       "      <td>69.105469</td>\n",
       "      <td>20.536458</td>\n",
       "      <td>79.799479</td>\n",
       "      <td>31.992578</td>\n",
       "      <td>0.471876</td>\n",
       "      <td>33.240885</td>\n",
       "      <td>0.348958</td>\n",
       "    </tr>\n",
       "    <tr>\n",
       "      <th>std</th>\n",
       "      <td>3.369578</td>\n",
       "      <td>31.972618</td>\n",
       "      <td>19.355807</td>\n",
       "      <td>15.952218</td>\n",
       "      <td>115.244002</td>\n",
       "      <td>7.884160</td>\n",
       "      <td>0.331329</td>\n",
       "      <td>11.760232</td>\n",
       "      <td>0.476951</td>\n",
       "    </tr>\n",
       "    <tr>\n",
       "      <th>min</th>\n",
       "      <td>0.000000</td>\n",
       "      <td>0.000000</td>\n",
       "      <td>0.000000</td>\n",
       "      <td>0.000000</td>\n",
       "      <td>0.000000</td>\n",
       "      <td>0.000000</td>\n",
       "      <td>0.078000</td>\n",
       "      <td>21.000000</td>\n",
       "      <td>0.000000</td>\n",
       "    </tr>\n",
       "    <tr>\n",
       "      <th>25%</th>\n",
       "      <td>1.000000</td>\n",
       "      <td>99.000000</td>\n",
       "      <td>62.000000</td>\n",
       "      <td>0.000000</td>\n",
       "      <td>0.000000</td>\n",
       "      <td>27.300000</td>\n",
       "      <td>0.243750</td>\n",
       "      <td>24.000000</td>\n",
       "      <td>0.000000</td>\n",
       "    </tr>\n",
       "    <tr>\n",
       "      <th>50%</th>\n",
       "      <td>3.000000</td>\n",
       "      <td>117.000000</td>\n",
       "      <td>72.000000</td>\n",
       "      <td>23.000000</td>\n",
       "      <td>30.500000</td>\n",
       "      <td>32.000000</td>\n",
       "      <td>0.372500</td>\n",
       "      <td>29.000000</td>\n",
       "      <td>0.000000</td>\n",
       "    </tr>\n",
       "    <tr>\n",
       "      <th>75%</th>\n",
       "      <td>6.000000</td>\n",
       "      <td>140.250000</td>\n",
       "      <td>80.000000</td>\n",
       "      <td>32.000000</td>\n",
       "      <td>127.250000</td>\n",
       "      <td>36.600000</td>\n",
       "      <td>0.626250</td>\n",
       "      <td>41.000000</td>\n",
       "      <td>1.000000</td>\n",
       "    </tr>\n",
       "    <tr>\n",
       "      <th>max</th>\n",
       "      <td>17.000000</td>\n",
       "      <td>199.000000</td>\n",
       "      <td>122.000000</td>\n",
       "      <td>99.000000</td>\n",
       "      <td>846.000000</td>\n",
       "      <td>67.100000</td>\n",
       "      <td>2.420000</td>\n",
       "      <td>81.000000</td>\n",
       "      <td>1.000000</td>\n",
       "    </tr>\n",
       "  </tbody>\n",
       "</table>\n",
       "</div>"
      ],
      "text/plain": [
       "       Pregnancies     Glucose  BloodPressure  SkinThickness     Insulin  \\\n",
       "count   768.000000  768.000000     768.000000     768.000000  768.000000   \n",
       "mean      3.845052  120.894531      69.105469      20.536458   79.799479   \n",
       "std       3.369578   31.972618      19.355807      15.952218  115.244002   \n",
       "min       0.000000    0.000000       0.000000       0.000000    0.000000   \n",
       "25%       1.000000   99.000000      62.000000       0.000000    0.000000   \n",
       "50%       3.000000  117.000000      72.000000      23.000000   30.500000   \n",
       "75%       6.000000  140.250000      80.000000      32.000000  127.250000   \n",
       "max      17.000000  199.000000     122.000000      99.000000  846.000000   \n",
       "\n",
       "              BMI  DiabetesPedigreeFunction         Age     Outcome  \n",
       "count  768.000000                768.000000  768.000000  768.000000  \n",
       "mean    31.992578                  0.471876   33.240885    0.348958  \n",
       "std      7.884160                  0.331329   11.760232    0.476951  \n",
       "min      0.000000                  0.078000   21.000000    0.000000  \n",
       "25%     27.300000                  0.243750   24.000000    0.000000  \n",
       "50%     32.000000                  0.372500   29.000000    0.000000  \n",
       "75%     36.600000                  0.626250   41.000000    1.000000  \n",
       "max     67.100000                  2.420000   81.000000    1.000000  "
      ]
     },
     "execution_count": 189,
     "metadata": {},
     "output_type": "execute_result"
    }
   ],
   "source": [
    "# Use describe() to show the descriptive statistic of the dataset\n",
    "df.describe()"
   ]
  },
  {
   "cell_type": "markdown",
   "id": "3e0d9e9a",
   "metadata": {},
   "source": [
    "Notes:\n",
    "- There are some variables have min value is 0, which is very unlikely such as `Glucose`, `BloodPressure`, `SkinThickness`, `BMI`...\n",
    "- This could be issues about the missing data in these variables"
   ]
  },
  {
   "cell_type": "code",
   "execution_count": 190,
   "id": "7bce8b40",
   "metadata": {},
   "outputs": [
    {
     "name": "stdout",
     "output_type": "stream",
     "text": [
      "(768, 9)\n",
      "<class 'pandas.core.frame.DataFrame'>\n",
      "RangeIndex: 768 entries, 0 to 767\n",
      "Data columns (total 9 columns):\n",
      " #   Column                    Non-Null Count  Dtype  \n",
      "---  ------                    --------------  -----  \n",
      " 0   Pregnancies               768 non-null    int64  \n",
      " 1   Glucose                   768 non-null    int64  \n",
      " 2   BloodPressure             768 non-null    int64  \n",
      " 3   SkinThickness             768 non-null    int64  \n",
      " 4   Insulin                   768 non-null    int64  \n",
      " 5   BMI                       768 non-null    float64\n",
      " 6   DiabetesPedigreeFunction  768 non-null    float64\n",
      " 7   Age                       768 non-null    int64  \n",
      " 8   Outcome                   768 non-null    int64  \n",
      "dtypes: float64(2), int64(7)\n",
      "memory usage: 54.1 KB\n",
      "None\n"
     ]
    }
   ],
   "source": [
    "# See about the shape and columns\n",
    "print(df.shape)\n",
    "print(df.info())"
   ]
  },
  {
   "cell_type": "markdown",
   "id": "31c4dcdc",
   "metadata": {},
   "source": [
    "Note: \n",
    "- 768 observations (data points)\n",
    "- `Outcome` is categorical variable but looks like numerical.\n",
    "- We should group the Age into appropriate group for analysis"
   ]
  },
  {
   "cell_type": "markdown",
   "id": "29a9ddd5",
   "metadata": {},
   "source": [
    "# Part II : Preprocessing & Feature Engineering"
   ]
  },
  {
   "cell_type": "markdown",
   "id": "0efa25cc",
   "metadata": {},
   "source": [
    "You need to perform preprocessing on the given dataset. Please consider the following tasks and carry out the necessary steps accordingly.\n",
    "- Handling missing values\n",
    "- Handling outliers\n",
    "- Scaling and normalization\n",
    "- Feature Engineering\n",
    "- Handling imbalanced data"
   ]
  },
  {
   "cell_type": "markdown",
   "id": "f8416b24",
   "metadata": {},
   "source": [
    "#### Handling Missing Values"
   ]
  },
  {
   "cell_type": "code",
   "execution_count": 9,
   "id": "4c39fb61",
   "metadata": {},
   "outputs": [
    {
     "data": {
      "text/plain": [
       "Pregnancies                 0\n",
       "Glucose                     0\n",
       "BloodPressure               0\n",
       "SkinThickness               0\n",
       "Insulin                     0\n",
       "BMI                         0\n",
       "DiabetesPedigreeFunction    0\n",
       "Age                         0\n",
       "Outcome                     0\n",
       "dtype: int64"
      ]
     },
     "execution_count": 9,
     "metadata": {},
     "output_type": "execute_result"
    }
   ],
   "source": [
    "# Handling missing values\n",
    "df.isnull().sum()"
   ]
  },
  {
   "cell_type": "code",
   "execution_count": 100,
   "id": "4628fe4e",
   "metadata": {},
   "outputs": [],
   "source": [
    "# Detection of variables with missing observations filled with zero in the data set.\n",
    "zero_colunms = [col for col in df.columns if (df[col].min() == 0 and col not in  [\"Pregnancies\", \"Outcome\"])]"
   ]
  },
  {
   "cell_type": "code",
   "execution_count": 101,
   "id": "387b20e9",
   "metadata": {},
   "outputs": [],
   "source": [
    "# Filling the missing observations in the dataset with NaN that are filled with zero.\n",
    "for col in zero_colunms:\n",
    "    df[col] = np.where(df[col] == 0, np.nan, df[col])"
   ]
  },
  {
   "cell_type": "code",
   "execution_count": 104,
   "id": "4a8cdab8",
   "metadata": {},
   "outputs": [
    {
     "data": {
      "text/plain": [
       "Index(['Glucose', 'BloodPressure', 'SkinThickness', 'Insulin', 'BMI'], dtype='object')"
      ]
     },
     "execution_count": 104,
     "metadata": {},
     "output_type": "execute_result"
    }
   ],
   "source": [
    "# checking the misssing values\n",
    "missing_cols = df.columns[df.isnull().sum() > 0]\n",
    "missing_cols"
   ]
  },
  {
   "cell_type": "code",
   "execution_count": 107,
   "id": "608fef26",
   "metadata": {},
   "outputs": [
    {
     "data": {
      "text/html": [
       "<div>\n",
       "<style scoped>\n",
       "    .dataframe tbody tr th:only-of-type {\n",
       "        vertical-align: middle;\n",
       "    }\n",
       "\n",
       "    .dataframe tbody tr th {\n",
       "        vertical-align: top;\n",
       "    }\n",
       "\n",
       "    .dataframe thead th {\n",
       "        text-align: right;\n",
       "    }\n",
       "</style>\n",
       "<table border=\"1\" class=\"dataframe\">\n",
       "  <thead>\n",
       "    <tr style=\"text-align: right;\">\n",
       "      <th></th>\n",
       "      <th>Pregnancies</th>\n",
       "      <th>Glucose</th>\n",
       "      <th>BloodPressure</th>\n",
       "      <th>SkinThickness</th>\n",
       "      <th>Insulin</th>\n",
       "      <th>BMI</th>\n",
       "      <th>DiabetesPedigreeFunction</th>\n",
       "      <th>Age</th>\n",
       "      <th>Outcome</th>\n",
       "    </tr>\n",
       "  </thead>\n",
       "  <tbody>\n",
       "    <tr>\n",
       "      <th>75</th>\n",
       "      <td>1</td>\n",
       "      <td>NaN</td>\n",
       "      <td>48.0</td>\n",
       "      <td>20.0</td>\n",
       "      <td>NaN</td>\n",
       "      <td>24.7</td>\n",
       "      <td>0.140</td>\n",
       "      <td>22</td>\n",
       "      <td>0</td>\n",
       "    </tr>\n",
       "    <tr>\n",
       "      <th>182</th>\n",
       "      <td>1</td>\n",
       "      <td>NaN</td>\n",
       "      <td>74.0</td>\n",
       "      <td>20.0</td>\n",
       "      <td>23.0</td>\n",
       "      <td>27.7</td>\n",
       "      <td>0.299</td>\n",
       "      <td>21</td>\n",
       "      <td>0</td>\n",
       "    </tr>\n",
       "    <tr>\n",
       "      <th>342</th>\n",
       "      <td>1</td>\n",
       "      <td>NaN</td>\n",
       "      <td>68.0</td>\n",
       "      <td>35.0</td>\n",
       "      <td>NaN</td>\n",
       "      <td>32.0</td>\n",
       "      <td>0.389</td>\n",
       "      <td>22</td>\n",
       "      <td>0</td>\n",
       "    </tr>\n",
       "    <tr>\n",
       "      <th>349</th>\n",
       "      <td>5</td>\n",
       "      <td>NaN</td>\n",
       "      <td>80.0</td>\n",
       "      <td>32.0</td>\n",
       "      <td>NaN</td>\n",
       "      <td>41.0</td>\n",
       "      <td>0.346</td>\n",
       "      <td>37</td>\n",
       "      <td>1</td>\n",
       "    </tr>\n",
       "    <tr>\n",
       "      <th>502</th>\n",
       "      <td>6</td>\n",
       "      <td>NaN</td>\n",
       "      <td>68.0</td>\n",
       "      <td>41.0</td>\n",
       "      <td>NaN</td>\n",
       "      <td>39.0</td>\n",
       "      <td>0.727</td>\n",
       "      <td>41</td>\n",
       "      <td>1</td>\n",
       "    </tr>\n",
       "  </tbody>\n",
       "</table>\n",
       "</div>"
      ],
      "text/plain": [
       "     Pregnancies  Glucose  BloodPressure  SkinThickness  Insulin   BMI  \\\n",
       "75             1      NaN           48.0           20.0      NaN  24.7   \n",
       "182            1      NaN           74.0           20.0     23.0  27.7   \n",
       "342            1      NaN           68.0           35.0      NaN  32.0   \n",
       "349            5      NaN           80.0           32.0      NaN  41.0   \n",
       "502            6      NaN           68.0           41.0      NaN  39.0   \n",
       "\n",
       "     DiabetesPedigreeFunction  Age  Outcome  \n",
       "75                      0.140   22        0  \n",
       "182                     0.299   21        0  \n",
       "342                     0.389   22        0  \n",
       "349                     0.346   37        1  \n",
       "502                     0.727   41        1  "
      ]
     },
     "execution_count": 107,
     "metadata": {},
     "output_type": "execute_result"
    }
   ],
   "source": [
    "df[df['Glucose'].isna()]"
   ]
  },
  {
   "cell_type": "code",
   "execution_count": 108,
   "id": "8ec2a9d6",
   "metadata": {},
   "outputs": [],
   "source": [
    "# filling the missing values\n",
    "for col in missing_cols:\n",
    "    df.loc[df[col].isnull(), col] = df[col].median()\n"
   ]
  },
  {
   "cell_type": "code",
   "execution_count": 109,
   "id": "7ca53474",
   "metadata": {},
   "outputs": [
    {
     "data": {
      "text/plain": [
       "Pregnancies                 0\n",
       "Glucose                     0\n",
       "BloodPressure               0\n",
       "SkinThickness               0\n",
       "Insulin                     0\n",
       "BMI                         0\n",
       "DiabetesPedigreeFunction    0\n",
       "Age                         0\n",
       "Outcome                     0\n",
       "dtype: int64"
      ]
     },
     "execution_count": 109,
     "metadata": {},
     "output_type": "execute_result"
    }
   ],
   "source": [
    "df.isnull().sum()"
   ]
  },
  {
   "cell_type": "code",
   "execution_count": 118,
   "id": "878df57e",
   "metadata": {},
   "outputs": [
    {
     "name": "stdout",
     "output_type": "stream",
     "text": [
      "Empty DataFrame\n",
      "Columns: [Pregnancies, Glucose, BloodPressure, SkinThickness, Insulin, BMI, DiabetesPedigreeFunction, Age, Outcome]\n",
      "Index: []\n"
     ]
    }
   ],
   "source": [
    "# checking duplicates\n",
    "duplicateRows = df[df.duplicated()]\n",
    "\n",
    "print(duplicateRows)"
   ]
  },
  {
   "cell_type": "markdown",
   "id": "9588ac3a",
   "metadata": {},
   "source": [
    "Notes:\n",
    "- There is no duplicated rows"
   ]
  },
  {
   "cell_type": "markdown",
   "id": "90e46ad4",
   "metadata": {},
   "source": [
    "#### Handling Outliers"
   ]
  },
  {
   "cell_type": "code",
   "execution_count": 220,
   "id": "8cccc516",
   "metadata": {},
   "outputs": [],
   "source": [
    "# define numerical columns and categorical columns\n",
    "num_feats = df.columns[~df.columns.isin(['Outcome'])]\n"
   ]
  },
  {
   "cell_type": "code",
   "execution_count": 221,
   "id": "a2c04b67",
   "metadata": {},
   "outputs": [
    {
     "data": {
      "image/png": "[encoded data removed]",
      "text/plain": [
       "<Figure size 500x500 with 1 Axes>"
      ]
     },
     "metadata": {},
     "output_type": "display_data"
    },
    {
     "data": {
      "image/png": "[encoded data removed]",
      "text/plain": [
       "<Figure size 500x500 with 1 Axes>"
      ]
     },
     "metadata": {},
     "output_type": "display_data"
    },
    {
     "data": {
      "image/png": "[encoded data removed]",
      "text/plain": [
       "<Figure size 500x500 with 1 Axes>"
      ]
     },
     "metadata": {},
     "output_type": "display_data"
    },
    {
     "data": {
      "image/png": "[encoded data removed]",
      "text/plain": [
       "<Figure size 500x500 with 1 Axes>"
      ]
     },
     "metadata": {},
     "output_type": "display_data"
    },
    {
     "data": {
      "image/png": "[encoded data removed]",
      "text/plain": [
       "<Figure size 500x500 with 1 Axes>"
      ]
     },
     "metadata": {},
     "output_type": "display_data"
    },
    {
     "data": {
      "image/png": "[encoded data removed]",
      "text/plain": [
       "<Figure size 500x500 with 1 Axes>"
      ]
     },
     "metadata": {},
     "output_type": "display_data"
    },
    {
     "data": {
      "image/png": "[encoded data removed]",
      "text/plain": [
       "<Figure size 500x500 with 1 Axes>"
      ]
     },
     "metadata": {},
     "output_type": "display_data"
    },
    {
     "data": {
      "image/png": "[encoded data removed]",
      "text/plain": [
       "<Figure size 500x500 with 1 Axes>"
      ]
     },
     "metadata": {},
     "output_type": "display_data"
    }
   ],
   "source": [
    "# Handle outliers\n",
    "sns.set_theme()\n",
    "for column in num_feats:\n",
    "    sns.displot(df[column])"
   ]
  },
  {
   "cell_type": "code",
   "execution_count": 222,
   "id": "4cd8d2e9",
   "metadata": {},
   "outputs": [
    {
     "data": {
      "text/plain": [
       "<Axes: >"
      ]
     },
     "execution_count": 222,
     "metadata": {},
     "output_type": "execute_result"
    },
    {
     "data": {
      "image/png": "[encoded data removed]",
      "text/plain": [
       "<Figure size 1400x600 with 1 Axes>"
      ]
     },
     "metadata": {},
     "output_type": "display_data"
    }
   ],
   "source": [
    "fig = plt.figure(figsize=(14,6))\n",
    "sns.boxplot(df)"
   ]
  },
  {
   "cell_type": "markdown",
   "id": "5df11d94",
   "metadata": {},
   "source": [
    "Notes:\n",
    "- There are many outliers in `Insulin` feature"
   ]
  },
  {
   "cell_type": "code",
   "execution_count": 223,
   "id": "7f301277",
   "metadata": {},
   "outputs": [
    {
     "name": "stdout",
     "output_type": "stream",
     "text": [
      "Pregnancies True\n",
      "Glucose True\n",
      "BloodPressure True\n",
      "SkinThickness True\n",
      "Insulin True\n",
      "BMI True\n",
      "DiabetesPedigreeFunction True\n",
      "Age True\n"
     ]
    }
   ],
   "source": [
    "# Outlier Analysis\n",
    "def outlier_thresholds(dataframe, col_name, q1=0.20, q3=0.80):\n",
    "    quartile1 = dataframe[col_name].quantile(q1)\n",
    "    quartile3 = dataframe[col_name].quantile(q3)\n",
    "    interquantile_range = quartile3 - quartile1\n",
    "    up_limit = quartile3 + 1.5 * interquantile_range\n",
    "    low_limit = quartile1 - 1.5 * interquantile_range\n",
    "    return low_limit, up_limit\n",
    "\n",
    "def check_outlier(dataframe, col_name):\n",
    "    low_limit, up_limit = outlier_thresholds(dataframe, col_name)\n",
    "    if dataframe[(dataframe[col_name] > up_limit) | (dataframe[col_name] < low_limit)].any(axis=None):\n",
    "        return True\n",
    "    else:\n",
    "        return False\n",
    "    \n",
    "for col in num_cols:\n",
    "    print(col, check_outlier(df, col))"
   ]
  },
  {
   "cell_type": "code",
   "execution_count": 224,
   "id": "2b553686",
   "metadata": {},
   "outputs": [],
   "source": [
    "# We are replacing the outliers according to the IQR method.\n",
    "def replace_with_thresholds(dataframe, variable, q1=0.20, q3=0.80):\n",
    "    low_limit, up_limit = outlier_thresholds(dataframe, variable, q1=0.20, q3=0.80)\n",
    "    dataframe.loc[(dataframe[variable] < low_limit), variable] = low_limit\n",
    "    dataframe.loc[(dataframe[variable] > up_limit), variable] = up_limit\n",
    "\n",
    "\n",
    "for feat in num_feats:\n",
    "    replace_with_thresholds(df, feat)"
   ]
  },
  {
   "cell_type": "code",
   "execution_count": 225,
   "id": "2e6ab0b0",
   "metadata": {},
   "outputs": [
    {
     "name": "stdout",
     "output_type": "stream",
     "text": [
      "Pregnancies False\n",
      "Glucose False\n",
      "BloodPressure False\n",
      "SkinThickness False\n",
      "Insulin False\n",
      "BMI False\n",
      "DiabetesPedigreeFunction False\n",
      "Age False\n"
     ]
    }
   ],
   "source": [
    "# We are checking the outlier analysis again for control\n",
    "for feat in num_feats:\n",
    "    print(feat, check_outlier(df, feat))"
   ]
  },
  {
   "cell_type": "markdown",
   "id": "0d0c56ae",
   "metadata": {},
   "source": [
    "#### Scaling and Normalization"
   ]
  },
  {
   "cell_type": "code",
   "execution_count": 226,
   "id": "465615bd",
   "metadata": {},
   "outputs": [],
   "source": [
    "# Scaling\n",
    "from sklearn.preprocessing import StandardScaler\n",
    "\n",
    "# Declare a standard scaler instance\n",
    "scaler = StandardScaler()\n",
    "\n",
    "# Scaling the numerical features\n",
    "df_train_scaled = pd.DataFrame(scaler.fit_transform(df[num_feats]))"
   ]
  },
  {
   "cell_type": "code",
   "execution_count": 227,
   "id": "408dfc6e",
   "metadata": {},
   "outputs": [
    {
     "data": {
      "text/html": [
       "<div>\n",
       "<style scoped>\n",
       "    .dataframe tbody tr th:only-of-type {\n",
       "        vertical-align: middle;\n",
       "    }\n",
       "\n",
       "    .dataframe tbody tr th {\n",
       "        vertical-align: top;\n",
       "    }\n",
       "\n",
       "    .dataframe thead th {\n",
       "        text-align: right;\n",
       "    }\n",
       "</style>\n",
       "<table border=\"1\" class=\"dataframe\">\n",
       "  <thead>\n",
       "    <tr style=\"text-align: right;\">\n",
       "      <th></th>\n",
       "      <th>0</th>\n",
       "      <th>1</th>\n",
       "      <th>2</th>\n",
       "      <th>3</th>\n",
       "      <th>4</th>\n",
       "      <th>5</th>\n",
       "      <th>6</th>\n",
       "      <th>7</th>\n",
       "    </tr>\n",
       "  </thead>\n",
       "  <tbody>\n",
       "    <tr>\n",
       "      <th>0</th>\n",
       "      <td>0.641267</td>\n",
       "      <td>0.855352</td>\n",
       "      <td>0.108990</td>\n",
       "      <td>0.912126</td>\n",
       "      <td>-0.763760</td>\n",
       "      <td>0.205297</td>\n",
       "      <td>0.542511</td>\n",
       "      <td>1.432260</td>\n",
       "    </tr>\n",
       "    <tr>\n",
       "      <th>1</th>\n",
       "      <td>-0.845728</td>\n",
       "      <td>-1.140854</td>\n",
       "      <td>-0.282761</td>\n",
       "      <td>0.534134</td>\n",
       "      <td>-0.763760</td>\n",
       "      <td>-0.743858</td>\n",
       "      <td>-0.376999</td>\n",
       "      <td>-0.190375</td>\n",
       "    </tr>\n",
       "    <tr>\n",
       "      <th>2</th>\n",
       "      <td>1.236064</td>\n",
       "      <td>1.964354</td>\n",
       "      <td>-0.413345</td>\n",
       "      <td>-1.292824</td>\n",
       "      <td>-0.763760</td>\n",
       "      <td>-1.191316</td>\n",
       "      <td>0.692431</td>\n",
       "      <td>-0.104973</td>\n",
       "    </tr>\n",
       "    <tr>\n",
       "      <th>3</th>\n",
       "      <td>-0.845728</td>\n",
       "      <td>-1.014111</td>\n",
       "      <td>-0.282761</td>\n",
       "      <td>0.156143</td>\n",
       "      <td>0.185885</td>\n",
       "      <td>-0.540467</td>\n",
       "      <td>-0.990005</td>\n",
       "      <td>-1.044393</td>\n",
       "    </tr>\n",
       "    <tr>\n",
       "      <th>4</th>\n",
       "      <td>-1.143127</td>\n",
       "      <td>0.506808</td>\n",
       "      <td>-1.980348</td>\n",
       "      <td>0.912126</td>\n",
       "      <td>0.933478</td>\n",
       "      <td>1.493436</td>\n",
       "      <td>3.079158</td>\n",
       "      <td>-0.019571</td>\n",
       "    </tr>\n",
       "    <tr>\n",
       "      <th>...</th>\n",
       "      <td>...</td>\n",
       "      <td>...</td>\n",
       "      <td>...</td>\n",
       "      <td>...</td>\n",
       "      <td>...</td>\n",
       "      <td>...</td>\n",
       "      <td>...</td>\n",
       "      <td>...</td>\n",
       "    </tr>\n",
       "    <tr>\n",
       "      <th>763</th>\n",
       "      <td>1.830862</td>\n",
       "      <td>-0.633881</td>\n",
       "      <td>0.370157</td>\n",
       "      <td>1.731107</td>\n",
       "      <td>1.054709</td>\n",
       "      <td>0.110382</td>\n",
       "      <td>-0.976679</td>\n",
       "      <td>2.542483</td>\n",
       "    </tr>\n",
       "    <tr>\n",
       "      <th>764</th>\n",
       "      <td>-0.548329</td>\n",
       "      <td>0.031521</td>\n",
       "      <td>-0.021594</td>\n",
       "      <td>0.408137</td>\n",
       "      <td>-0.763760</td>\n",
       "      <td>0.639196</td>\n",
       "      <td>-0.413646</td>\n",
       "      <td>-0.531982</td>\n",
       "    </tr>\n",
       "    <tr>\n",
       "      <th>765</th>\n",
       "      <td>0.343868</td>\n",
       "      <td>-0.000165</td>\n",
       "      <td>0.108990</td>\n",
       "      <td>0.156143</td>\n",
       "      <td>0.367732</td>\n",
       "      <td>-0.798095</td>\n",
       "      <td>-0.730144</td>\n",
       "      <td>-0.275777</td>\n",
       "    </tr>\n",
       "    <tr>\n",
       "      <th>766</th>\n",
       "      <td>-0.845728</td>\n",
       "      <td>0.158264</td>\n",
       "      <td>-0.674512</td>\n",
       "      <td>-1.292824</td>\n",
       "      <td>-0.763760</td>\n",
       "      <td>-0.269280</td>\n",
       "      <td>-0.383662</td>\n",
       "      <td>1.176054</td>\n",
       "    </tr>\n",
       "    <tr>\n",
       "      <th>767</th>\n",
       "      <td>-0.845728</td>\n",
       "      <td>-0.887367</td>\n",
       "      <td>-0.021594</td>\n",
       "      <td>0.660132</td>\n",
       "      <td>-0.763760</td>\n",
       "      <td>-0.228602</td>\n",
       "      <td>-0.496935</td>\n",
       "      <td>-0.873589</td>\n",
       "    </tr>\n",
       "  </tbody>\n",
       "</table>\n",
       "<p>768 rows × 8 columns</p>\n",
       "</div>"
      ],
      "text/plain": [
       "            0         1         2         3         4         5         6  \\\n",
       "0    0.641267  0.855352  0.108990  0.912126 -0.763760  0.205297  0.542511   \n",
       "1   -0.845728 -1.140854 -0.282761  0.534134 -0.763760 -0.743858 -0.376999   \n",
       "2    1.236064  1.964354 -0.413345 -1.292824 -0.763760 -1.191316  0.692431   \n",
       "3   -0.845728 -1.014111 -0.282761  0.156143  0.185885 -0.540467 -0.990005   \n",
       "4   -1.143127  0.506808 -1.980348  0.912126  0.933478  1.493436  3.079158   \n",
       "..        ...       ...       ...       ...       ...       ...       ...   \n",
       "763  1.830862 -0.633881  0.370157  1.731107  1.054709  0.110382 -0.976679   \n",
       "764 -0.548329  0.031521 -0.021594  0.408137 -0.763760  0.639196 -0.413646   \n",
       "765  0.343868 -0.000165  0.108990  0.156143  0.367732 -0.798095 -0.730144   \n",
       "766 -0.845728  0.158264 -0.674512 -1.292824 -0.763760 -0.269280 -0.383662   \n",
       "767 -0.845728 -0.887367 -0.021594  0.660132 -0.763760 -0.228602 -0.496935   \n",
       "\n",
       "            7  \n",
       "0    1.432260  \n",
       "1   -0.190375  \n",
       "2   -0.104973  \n",
       "3   -1.044393  \n",
       "4   -0.019571  \n",
       "..        ...  \n",
       "763  2.542483  \n",
       "764 -0.531982  \n",
       "765 -0.275777  \n",
       "766  1.176054  \n",
       "767 -0.873589  \n",
       "\n",
       "[768 rows x 8 columns]"
      ]
     },
     "execution_count": 227,
     "metadata": {},
     "output_type": "execute_result"
    }
   ],
   "source": [
    "df_train_scaled"
   ]
  },
  {
   "cell_type": "code",
   "execution_count": 228,
   "id": "a7ae4808",
   "metadata": {},
   "outputs": [
    {
     "name": "stdout",
     "output_type": "stream",
     "text": [
      "RangeIndex(start=0, stop=8, step=1)\n"
     ]
    }
   ],
   "source": [
    "print(df_train_scaled.columns)"
   ]
  },
  {
   "cell_type": "code",
   "execution_count": 229,
   "id": "eac4eab1",
   "metadata": {},
   "outputs": [
    {
     "name": "stdout",
     "output_type": "stream",
     "text": [
      "Index(['Pregnancies', 'Glucose', 'BloodPressure', 'SkinThickness', 'Insulin',\n",
      "       'BMI', 'DiabetesPedigreeFunction', 'Age'],\n",
      "      dtype='object')\n"
     ]
    }
   ],
   "source": [
    "df_train_scaled.columns = num_feats\n",
    "print(df_train_scaled.columns)"
   ]
  },
  {
   "cell_type": "code",
   "execution_count": 230,
   "id": "63f37a51",
   "metadata": {},
   "outputs": [
    {
     "name": "stdout",
     "output_type": "stream",
     "text": [
      "     Pregnancies   Glucose  BloodPressure  SkinThickness   Insulin       BMI  \\\n",
      "0       0.641267  0.855352       0.108990       0.912126 -0.763760  0.205297   \n",
      "1      -0.845728 -1.140854      -0.282761       0.534134 -0.763760 -0.743858   \n",
      "2       1.236064  1.964354      -0.413345      -1.292824 -0.763760 -1.191316   \n",
      "3      -0.845728 -1.014111      -0.282761       0.156143  0.185885 -0.540467   \n",
      "4      -1.143127  0.506808      -1.980348       0.912126  0.933478  1.493436   \n",
      "..           ...       ...            ...            ...       ...       ...   \n",
      "763     1.830862 -0.633881       0.370157       1.731107  1.054709  0.110382   \n",
      "764    -0.548329  0.031521      -0.021594       0.408137 -0.763760  0.639196   \n",
      "765     0.343868 -0.000165       0.108990       0.156143  0.367732 -0.798095   \n",
      "766    -0.845728  0.158264      -0.674512      -1.292824 -0.763760 -0.269280   \n",
      "767    -0.845728 -0.887367      -0.021594       0.660132 -0.763760 -0.228602   \n",
      "\n",
      "     DiabetesPedigreeFunction       Age  \n",
      "0                    0.542511  1.432260  \n",
      "1                   -0.376999 -0.190375  \n",
      "2                    0.692431 -0.104973  \n",
      "3                   -0.990005 -1.044393  \n",
      "4                    3.079158 -0.019571  \n",
      "..                        ...       ...  \n",
      "763                 -0.976679  2.542483  \n",
      "764                 -0.413646 -0.531982  \n",
      "765                 -0.730144 -0.275777  \n",
      "766                 -0.383662  1.176054  \n",
      "767                 -0.496935 -0.873589  \n",
      "\n",
      "[768 rows x 8 columns]\n"
     ]
    }
   ],
   "source": [
    "print(df_train_scaled)"
   ]
  },
  {
   "cell_type": "code",
   "execution_count": 231,
   "id": "c48f8b01",
   "metadata": {},
   "outputs": [
    {
     "name": "stdout",
     "output_type": "stream",
     "text": [
      "[[0.375      0.71978022 0.51136364 ... 0.53676471 0.41895604 0.56862745]\n",
      " [0.0625     0.37362637 0.44318182 ... 0.38970588 0.20833333 0.19607843]\n",
      " [0.5        0.91208791 0.42045455 ... 0.32037815 0.4532967  0.21568627]\n",
      " ...\n",
      " [0.3125     0.57142857 0.51136364 ... 0.38130252 0.127442   0.17647059]\n",
      " [0.0625     0.5989011  0.375      ... 0.46323529 0.20680708 0.50980392]\n",
      " [0.0625     0.41758242 0.48863636 ... 0.46953782 0.18086081 0.03921569]]\n"
     ]
    }
   ],
   "source": [
    "# # Normalization\n",
    "from sklearn.preprocessing import MinMaxScaler\n",
    "scaler = MinMaxScaler() \n",
    "df_train_normalized = scaler.fit_transform(df[num_feats])\n",
    "\n",
    "print(df_train_normalized)"
   ]
  },
  {
   "cell_type": "markdown",
   "id": "0b8610e9",
   "metadata": {},
   "source": [
    "#### Feature Engineering"
   ]
  },
  {
   "cell_type": "code",
   "execution_count": 232,
   "id": "6345fb23",
   "metadata": {},
   "outputs": [],
   "source": [
    "df_train_scaled['Outcome'] = df['Outcome']"
   ]
  },
  {
   "cell_type": "code",
   "execution_count": 233,
   "id": "04444c46",
   "metadata": {},
   "outputs": [
    {
     "name": "stdout",
     "output_type": "stream",
     "text": [
      "     Pregnancies   Glucose  BloodPressure  SkinThickness   Insulin       BMI  \\\n",
      "0       0.641267  0.855352       0.108990       0.912126 -0.763760  0.205297   \n",
      "1      -0.845728 -1.140854      -0.282761       0.534134 -0.763760 -0.743858   \n",
      "2       1.236064  1.964354      -0.413345      -1.292824 -0.763760 -1.191316   \n",
      "3      -0.845728 -1.014111      -0.282761       0.156143  0.185885 -0.540467   \n",
      "4      -1.143127  0.506808      -1.980348       0.912126  0.933478  1.493436   \n",
      "..           ...       ...            ...            ...       ...       ...   \n",
      "763     1.830862 -0.633881       0.370157       1.731107  1.054709  0.110382   \n",
      "764    -0.548329  0.031521      -0.021594       0.408137 -0.763760  0.639196   \n",
      "765     0.343868 -0.000165       0.108990       0.156143  0.367732 -0.798095   \n",
      "766    -0.845728  0.158264      -0.674512      -1.292824 -0.763760 -0.269280   \n",
      "767    -0.845728 -0.887367      -0.021594       0.660132 -0.763760 -0.228602   \n",
      "\n",
      "     DiabetesPedigreeFunction       Age  Outcome  \n",
      "0                    0.542511  1.432260        1  \n",
      "1                   -0.376999 -0.190375        0  \n",
      "2                    0.692431 -0.104973        1  \n",
      "3                   -0.990005 -1.044393        0  \n",
      "4                    3.079158 -0.019571        1  \n",
      "..                        ...       ...      ...  \n",
      "763                 -0.976679  2.542483        0  \n",
      "764                 -0.413646 -0.531982        0  \n",
      "765                 -0.730144 -0.275777        0  \n",
      "766                 -0.383662  1.176054        1  \n",
      "767                 -0.496935 -0.873589        0  \n",
      "\n",
      "[768 rows x 9 columns]\n"
     ]
    }
   ],
   "source": [
    "print(df_train_scaled)"
   ]
  },
  {
   "cell_type": "code",
   "execution_count": 234,
   "id": "e07b8385",
   "metadata": {},
   "outputs": [],
   "source": [
    "df = df_train_scaled"
   ]
  },
  {
   "cell_type": "code",
   "execution_count": 235,
   "id": "fa413329",
   "metadata": {},
   "outputs": [],
   "source": [
    "# Glucose level\n",
    "glucose_bins = [0, 70, 100, float('inf')]\n",
    "glucose_labels = ['Low', 'Normal', 'High']\n",
    "\n",
    "df['Glucose_Level'] = pd.cut(df['Glucose'], bins=glucose_bins, labels=glucose_labels)\n",
    "\n",
    "# BMI category\n",
    "bmi_bins = [0, 18.5, 25, 30, 35, 40, float('inf')]\n",
    "bmi_labels = ['underweight', 'normal', 'overweight', 'obese class I', 'obese class II', 'obese class III']\n",
    "df['BMI_Category'] = pd.cut(df['BMI'], bins=bmi_bins, labels=bmi_labels)\n",
    "\n",
    "# Create a new column with the interaction between glucose and BMI\n",
    "df['Glucose and BMI Interaction'] = df['Glucose'] * df['BMI']\n",
    "\n",
    "# Create diabetes history feature\n",
    "dpf_threshold = 0.8\n",
    "df[\"Diabetes_History\"] = df[\"DiabetesPedigreeFunction\"].apply(lambda x: \"Yes\" if x >= dpf_threshold else \"No\")"
   ]
  },
  {
   "cell_type": "code",
   "execution_count": 236,
   "id": "76358b67",
   "metadata": {},
   "outputs": [
    {
     "data": {
      "text/html": [
       "<div>\n",
       "<style scoped>\n",
       "    .dataframe tbody tr th:only-of-type {\n",
       "        vertical-align: middle;\n",
       "    }\n",
       "\n",
       "    .dataframe tbody tr th {\n",
       "        vertical-align: top;\n",
       "    }\n",
       "\n",
       "    .dataframe thead th {\n",
       "        text-align: right;\n",
       "    }\n",
       "</style>\n",
       "<table border=\"1\" class=\"dataframe\">\n",
       "  <thead>\n",
       "    <tr style=\"text-align: right;\">\n",
       "      <th></th>\n",
       "      <th>Pregnancies</th>\n",
       "      <th>Glucose</th>\n",
       "      <th>BloodPressure</th>\n",
       "      <th>SkinThickness</th>\n",
       "      <th>Insulin</th>\n",
       "      <th>BMI</th>\n",
       "      <th>DiabetesPedigreeFunction</th>\n",
       "      <th>Age</th>\n",
       "      <th>Outcome</th>\n",
       "      <th>Glucose_Level</th>\n",
       "      <th>BMI_Category</th>\n",
       "      <th>Glucose and BMI Interaction</th>\n",
       "      <th>Diabetes_History</th>\n",
       "    </tr>\n",
       "  </thead>\n",
       "  <tbody>\n",
       "    <tr>\n",
       "      <th>0</th>\n",
       "      <td>0.641267</td>\n",
       "      <td>0.855352</td>\n",
       "      <td>0.108990</td>\n",
       "      <td>0.912126</td>\n",
       "      <td>-0.763760</td>\n",
       "      <td>0.205297</td>\n",
       "      <td>0.542511</td>\n",
       "      <td>1.432260</td>\n",
       "      <td>1</td>\n",
       "      <td>Low</td>\n",
       "      <td>underweight</td>\n",
       "      <td>0.175601</td>\n",
       "      <td>No</td>\n",
       "    </tr>\n",
       "    <tr>\n",
       "      <th>1</th>\n",
       "      <td>-0.845728</td>\n",
       "      <td>-1.140854</td>\n",
       "      <td>-0.282761</td>\n",
       "      <td>0.534134</td>\n",
       "      <td>-0.763760</td>\n",
       "      <td>-0.743858</td>\n",
       "      <td>-0.376999</td>\n",
       "      <td>-0.190375</td>\n",
       "      <td>0</td>\n",
       "      <td>NaN</td>\n",
       "      <td>NaN</td>\n",
       "      <td>0.848633</td>\n",
       "      <td>No</td>\n",
       "    </tr>\n",
       "    <tr>\n",
       "      <th>2</th>\n",
       "      <td>1.236064</td>\n",
       "      <td>1.964354</td>\n",
       "      <td>-0.413345</td>\n",
       "      <td>-1.292824</td>\n",
       "      <td>-0.763760</td>\n",
       "      <td>-1.191316</td>\n",
       "      <td>0.692431</td>\n",
       "      <td>-0.104973</td>\n",
       "      <td>1</td>\n",
       "      <td>Low</td>\n",
       "      <td>NaN</td>\n",
       "      <td>-2.340167</td>\n",
       "      <td>No</td>\n",
       "    </tr>\n",
       "    <tr>\n",
       "      <th>3</th>\n",
       "      <td>-0.845728</td>\n",
       "      <td>-1.014111</td>\n",
       "      <td>-0.282761</td>\n",
       "      <td>0.156143</td>\n",
       "      <td>0.185885</td>\n",
       "      <td>-0.540467</td>\n",
       "      <td>-0.990005</td>\n",
       "      <td>-1.044393</td>\n",
       "      <td>0</td>\n",
       "      <td>NaN</td>\n",
       "      <td>NaN</td>\n",
       "      <td>0.548094</td>\n",
       "      <td>No</td>\n",
       "    </tr>\n",
       "    <tr>\n",
       "      <th>4</th>\n",
       "      <td>-1.143127</td>\n",
       "      <td>0.506808</td>\n",
       "      <td>-1.980348</td>\n",
       "      <td>0.912126</td>\n",
       "      <td>0.933478</td>\n",
       "      <td>1.493436</td>\n",
       "      <td>3.079158</td>\n",
       "      <td>-0.019571</td>\n",
       "      <td>1</td>\n",
       "      <td>Low</td>\n",
       "      <td>underweight</td>\n",
       "      <td>0.756885</td>\n",
       "      <td>Yes</td>\n",
       "    </tr>\n",
       "  </tbody>\n",
       "</table>\n",
       "</div>"
      ],
      "text/plain": [
       "   Pregnancies   Glucose  BloodPressure  SkinThickness   Insulin       BMI  \\\n",
       "0     0.641267  0.855352       0.108990       0.912126 -0.763760  0.205297   \n",
       "1    -0.845728 -1.140854      -0.282761       0.534134 -0.763760 -0.743858   \n",
       "2     1.236064  1.964354      -0.413345      -1.292824 -0.763760 -1.191316   \n",
       "3    -0.845728 -1.014111      -0.282761       0.156143  0.185885 -0.540467   \n",
       "4    -1.143127  0.506808      -1.980348       0.912126  0.933478  1.493436   \n",
       "\n",
       "   DiabetesPedigreeFunction       Age  Outcome Glucose_Level BMI_Category  \\\n",
       "0                  0.542511  1.432260        1           Low  underweight   \n",
       "1                 -0.376999 -0.190375        0           NaN          NaN   \n",
       "2                  0.692431 -0.104973        1           Low          NaN   \n",
       "3                 -0.990005 -1.044393        0           NaN          NaN   \n",
       "4                  3.079158 -0.019571        1           Low  underweight   \n",
       "\n",
       "   Glucose and BMI Interaction Diabetes_History  \n",
       "0                     0.175601               No  \n",
       "1                     0.848633               No  \n",
       "2                    -2.340167               No  \n",
       "3                     0.548094               No  \n",
       "4                     0.756885              Yes  "
      ]
     },
     "execution_count": 236,
     "metadata": {},
     "output_type": "execute_result"
    }
   ],
   "source": [
    "df.head()"
   ]
  },
  {
   "cell_type": "code",
   "execution_count": 237,
   "id": "50949628",
   "metadata": {},
   "outputs": [
    {
     "data": {
      "text/html": [
       "<div>\n",
       "<style scoped>\n",
       "    .dataframe tbody tr th:only-of-type {\n",
       "        vertical-align: middle;\n",
       "    }\n",
       "\n",
       "    .dataframe tbody tr th {\n",
       "        vertical-align: top;\n",
       "    }\n",
       "\n",
       "    .dataframe thead th {\n",
       "        text-align: right;\n",
       "    }\n",
       "</style>\n",
       "<table border=\"1\" class=\"dataframe\">\n",
       "  <thead>\n",
       "    <tr style=\"text-align: right;\">\n",
       "      <th></th>\n",
       "      <th>Pregnancies</th>\n",
       "      <th>Glucose</th>\n",
       "      <th>BloodPressure</th>\n",
       "      <th>SkinThickness</th>\n",
       "      <th>Insulin</th>\n",
       "      <th>BMI</th>\n",
       "      <th>DiabetesPedigreeFunction</th>\n",
       "      <th>Age</th>\n",
       "      <th>Outcome</th>\n",
       "      <th>Glucose and BMI Interaction</th>\n",
       "      <th>Diabetes_History_Yes</th>\n",
       "      <th>Glucose_Level_Normal</th>\n",
       "      <th>Glucose_Level_High</th>\n",
       "      <th>BMI_Category_normal</th>\n",
       "      <th>BMI_Category_overweight</th>\n",
       "      <th>BMI_Category_obese class I</th>\n",
       "      <th>BMI_Category_obese class II</th>\n",
       "      <th>BMI_Category_obese class III</th>\n",
       "    </tr>\n",
       "  </thead>\n",
       "  <tbody>\n",
       "    <tr>\n",
       "      <th>0</th>\n",
       "      <td>0.641267</td>\n",
       "      <td>0.855352</td>\n",
       "      <td>0.108990</td>\n",
       "      <td>0.912126</td>\n",
       "      <td>-0.763760</td>\n",
       "      <td>0.205297</td>\n",
       "      <td>0.542511</td>\n",
       "      <td>1.432260</td>\n",
       "      <td>1</td>\n",
       "      <td>0.175601</td>\n",
       "      <td>0</td>\n",
       "      <td>0</td>\n",
       "      <td>0</td>\n",
       "      <td>0</td>\n",
       "      <td>0</td>\n",
       "      <td>0</td>\n",
       "      <td>0</td>\n",
       "      <td>0</td>\n",
       "    </tr>\n",
       "    <tr>\n",
       "      <th>1</th>\n",
       "      <td>-0.845728</td>\n",
       "      <td>-1.140854</td>\n",
       "      <td>-0.282761</td>\n",
       "      <td>0.534134</td>\n",
       "      <td>-0.763760</td>\n",
       "      <td>-0.743858</td>\n",
       "      <td>-0.376999</td>\n",
       "      <td>-0.190375</td>\n",
       "      <td>0</td>\n",
       "      <td>0.848633</td>\n",
       "      <td>0</td>\n",
       "      <td>0</td>\n",
       "      <td>0</td>\n",
       "      <td>0</td>\n",
       "      <td>0</td>\n",
       "      <td>0</td>\n",
       "      <td>0</td>\n",
       "      <td>0</td>\n",
       "    </tr>\n",
       "    <tr>\n",
       "      <th>2</th>\n",
       "      <td>1.236064</td>\n",
       "      <td>1.964354</td>\n",
       "      <td>-0.413345</td>\n",
       "      <td>-1.292824</td>\n",
       "      <td>-0.763760</td>\n",
       "      <td>-1.191316</td>\n",
       "      <td>0.692431</td>\n",
       "      <td>-0.104973</td>\n",
       "      <td>1</td>\n",
       "      <td>-2.340167</td>\n",
       "      <td>0</td>\n",
       "      <td>0</td>\n",
       "      <td>0</td>\n",
       "      <td>0</td>\n",
       "      <td>0</td>\n",
       "      <td>0</td>\n",
       "      <td>0</td>\n",
       "      <td>0</td>\n",
       "    </tr>\n",
       "    <tr>\n",
       "      <th>3</th>\n",
       "      <td>-0.845728</td>\n",
       "      <td>-1.014111</td>\n",
       "      <td>-0.282761</td>\n",
       "      <td>0.156143</td>\n",
       "      <td>0.185885</td>\n",
       "      <td>-0.540467</td>\n",
       "      <td>-0.990005</td>\n",
       "      <td>-1.044393</td>\n",
       "      <td>0</td>\n",
       "      <td>0.548094</td>\n",
       "      <td>0</td>\n",
       "      <td>0</td>\n",
       "      <td>0</td>\n",
       "      <td>0</td>\n",
       "      <td>0</td>\n",
       "      <td>0</td>\n",
       "      <td>0</td>\n",
       "      <td>0</td>\n",
       "    </tr>\n",
       "    <tr>\n",
       "      <th>4</th>\n",
       "      <td>-1.143127</td>\n",
       "      <td>0.506808</td>\n",
       "      <td>-1.980348</td>\n",
       "      <td>0.912126</td>\n",
       "      <td>0.933478</td>\n",
       "      <td>1.493436</td>\n",
       "      <td>3.079158</td>\n",
       "      <td>-0.019571</td>\n",
       "      <td>1</td>\n",
       "      <td>0.756885</td>\n",
       "      <td>1</td>\n",
       "      <td>0</td>\n",
       "      <td>0</td>\n",
       "      <td>0</td>\n",
       "      <td>0</td>\n",
       "      <td>0</td>\n",
       "      <td>0</td>\n",
       "      <td>0</td>\n",
       "    </tr>\n",
       "  </tbody>\n",
       "</table>\n",
       "</div>"
      ],
      "text/plain": [
       "   Pregnancies   Glucose  BloodPressure  SkinThickness   Insulin       BMI  \\\n",
       "0     0.641267  0.855352       0.108990       0.912126 -0.763760  0.205297   \n",
       "1    -0.845728 -1.140854      -0.282761       0.534134 -0.763760 -0.743858   \n",
       "2     1.236064  1.964354      -0.413345      -1.292824 -0.763760 -1.191316   \n",
       "3    -0.845728 -1.014111      -0.282761       0.156143  0.185885 -0.540467   \n",
       "4    -1.143127  0.506808      -1.980348       0.912126  0.933478  1.493436   \n",
       "\n",
       "   DiabetesPedigreeFunction       Age  Outcome  Glucose and BMI Interaction  \\\n",
       "0                  0.542511  1.432260        1                     0.175601   \n",
       "1                 -0.376999 -0.190375        0                     0.848633   \n",
       "2                  0.692431 -0.104973        1                    -2.340167   \n",
       "3                 -0.990005 -1.044393        0                     0.548094   \n",
       "4                  3.079158 -0.019571        1                     0.756885   \n",
       "\n",
       "   Diabetes_History_Yes  Glucose_Level_Normal  Glucose_Level_High  \\\n",
       "0                     0                     0                   0   \n",
       "1                     0                     0                   0   \n",
       "2                     0                     0                   0   \n",
       "3                     0                     0                   0   \n",
       "4                     1                     0                   0   \n",
       "\n",
       "   BMI_Category_normal  BMI_Category_overweight  BMI_Category_obese class I  \\\n",
       "0                    0                        0                           0   \n",
       "1                    0                        0                           0   \n",
       "2                    0                        0                           0   \n",
       "3                    0                        0                           0   \n",
       "4                    0                        0                           0   \n",
       "\n",
       "   BMI_Category_obese class II  BMI_Category_obese class III  \n",
       "0                            0                             0  \n",
       "1                            0                             0  \n",
       "2                            0                             0  \n",
       "3                            0                             0  \n",
       "4                            0                             0  "
      ]
     },
     "execution_count": 237,
     "metadata": {},
     "output_type": "execute_result"
    }
   ],
   "source": [
    "# One-Hot Encoding Process\n",
    "# One-hot encoding is a process of converting categorical data into a binary vector representation.\n",
    "def one_hot_encoder(dataframe, categorical_cols, drop_first=False):\n",
    "    dataframe = pd.get_dummies(dataframe, columns=categorical_cols, drop_first=drop_first)\n",
    "    return dataframe\n",
    "\n",
    "cat_feats = ['Diabetes_History', 'Glucose_Level', 'BMI_Category']\n",
    "\n",
    "df = one_hot_encoder(df, cat_feats, drop_first=True)\n",
    "\n",
    "df.head()"
   ]
  },
  {
   "cell_type": "markdown",
   "id": "5df2b931",
   "metadata": {},
   "source": [
    "#### Handling imbalanced data"
   ]
  },
  {
   "cell_type": "code",
   "execution_count": 238,
   "id": "c1b6e200",
   "metadata": {},
   "outputs": [
    {
     "data": {
      "text/plain": [
       "0    500\n",
       "1    268\n",
       "Name: Outcome, dtype: int64"
      ]
     },
     "execution_count": 238,
     "metadata": {},
     "output_type": "execute_result"
    }
   ],
   "source": [
    "# Handling imbalanced data\n",
    "df['Outcome'].value_counts()"
   ]
  },
  {
   "cell_type": "markdown",
   "id": "4ba8c69d",
   "metadata": {},
   "source": [
    "Note: \n",
    "- The balance set of people with diabetes is quite good"
   ]
  },
  {
   "cell_type": "markdown",
   "id": "5702ddcf",
   "metadata": {},
   "source": [
    "# Part III : Training ML Model"
   ]
  },
  {
   "cell_type": "markdown",
   "id": "ecca0ccc",
   "metadata": {},
   "source": [
    "For this task, you are required to build a machine learning model to predict the outcome variable. This will be a binary classification task, as the target variable is binary. You should select at least two models, one of which should be an ensemble model, and compare their performance.\n",
    "\n",
    "- Train the models: Train the selected models on the training set.\n",
    "- Model evaluation: Evaluate the trained models on the testing set using appropriate evaluation metrics, such as accuracy, precision, recall, F1-score, and ROC-AUC.\n",
    "- Model comparison: Compare the performance of the selected models and choose the best-performing model based on the evaluation metrics. You can also perform additional analysis, such as model tuning and cross-validation, to improve the model's performance."
   ]
  },
  {
   "cell_type": "code",
   "execution_count": 239,
   "id": "39675d6b",
   "metadata": {},
   "outputs": [],
   "source": [
    "from sklearn.model_selection import train_test_split\n",
    "\n",
    "from sklearn.metrics import confusion_matrix, accuracy_score, classification_report"
   ]
  },
  {
   "cell_type": "markdown",
   "id": "a8d5510a",
   "metadata": {},
   "source": [
    "#### Model with normal dataset"
   ]
  },
  {
   "cell_type": "code",
   "execution_count": 240,
   "id": "ffb8c632",
   "metadata": {},
   "outputs": [
    {
     "name": "stdout",
     "output_type": "stream",
     "text": [
      "linear: 0.1506714439961304, xgb: 0.16579833762306373, randomforest: 0.15053896103896103\n"
     ]
    }
   ],
   "source": [
    "# importing utility modules\n",
    "from sklearn.model_selection import train_test_split\n",
    "from sklearn.metrics import mean_squared_error\n",
    " \n",
    "# importing machine learning models for prediction\n",
    "from sklearn.ensemble import RandomForestRegressor\n",
    "import xgboost as xgb\n",
    "from sklearn.linear_model import LinearRegression\n",
    " \n",
    "# getting target data from the dataframe\n",
    "y = df[\"Outcome\"]\n",
    " \n",
    "# getting train data from the dataframe\n",
    "X = df.drop(columns = ['Outcome'])\n",
    " \n",
    "# Splitting between train data into training and validation dataset\n",
    "X_train, X_test, y_train, y_test = train_test_split(\n",
    "    X, y, test_size=0.30, random_state=30)\n",
    " \n",
    "# initializing all the model objects with default parameters\n",
    "lr = LinearRegression()\n",
    "xgb = xgb.XGBRegressor()\n",
    "rfr = RandomForestRegressor()\n",
    " \n",
    "# training all the model on the training dataset\n",
    "lr.fit(X_train, y_train)\n",
    "xgb.fit(X_train, y_train)\n",
    "rfr.fit(X_train, y_train)\n",
    " \n",
    "# predicting the output on the validation dataset\n",
    "y_lr = lr.predict(X_test)\n",
    "y_xgb = xgb.predict(X_test)\n",
    "y_rfr = rfr.predict(X_test)\n",
    " \n",
    "# calculating the mean squared error\n",
    "mse_lr = mean_squared_error(y_test, y_lr)\n",
    "mse_xgb = mean_squared_error(y_test, y_xgb)\n",
    "mse_rfr = mean_squared_error(y_test, y_rfr)\n",
    "\n",
    "# printing the mean squared error between real value and predicted value\n",
    "print(f'linear: {mse_lr}, xgb: {mse_xgb}, randomforest: {mse_rfr}')"
   ]
  },
  {
   "cell_type": "code",
   "execution_count": 241,
   "id": "01ac1ca3",
   "metadata": {},
   "outputs": [],
   "source": [
    "# set the threshold to predict positive class\n",
    "thres = 0.5\n",
    "\n",
    "# class predictions\n",
    "y_pred_lr = [int(value > thres) for value in y_lr]\n",
    "y_pred_xgb = [int(value > thres) for value in y_xgb]\n",
    "y_pred_rfr = [int(value > thres) for value in y_rfr]"
   ]
  },
  {
   "cell_type": "code",
   "execution_count": 243,
   "id": "2a755805",
   "metadata": {},
   "outputs": [
    {
     "name": "stdout",
     "output_type": "stream",
     "text": [
      "f1_score_lr: 0.6616541353383459, f1_score_xgb: 0.6394557823129251, f1_score_rfr: 0.6712328767123288\n"
     ]
    }
   ],
   "source": [
    "# import f1_score from sklearn\n",
    "from sklearn.metrics import f1_score\n",
    "\n",
    "# compute F1-score\n",
    "f1_score_lr = f1_score(y_test, y_pred_lr)\n",
    "f1_score_xgb = f1_score(y_test, y_pred_xgb)\n",
    "f1_score_rfr = f1_score(y_test, y_pred_rfr)\n",
    "\n",
    "\n",
    "# print F1-score\n",
    "print(f'f1_score_lr: {f1_score_lr}, f1_score_xgb: {f1_score_xgb}, f1_score_rfr: {f1_score_rfr}')"
   ]
  },
  {
   "cell_type": "code",
   "execution_count": 244,
   "id": "e962dd3f",
   "metadata": {},
   "outputs": [
    {
     "name": "stdout",
     "output_type": "stream",
     "text": [
      "auc_lr: 0.7520964360587002, auc_xgb: 0.73833857442348, auc_rfr: 0.76166142557652\n"
     ]
    }
   ],
   "source": [
    "# import roc_auc_score from sklearn\n",
    "from sklearn.metrics import roc_auc_score\n",
    "\n",
    "# compute AUC-score\n",
    "auc_lr = roc_auc_score(y_test,y_pred_lr)\n",
    "auc_xgb = roc_auc_score(y_test,y_pred_xgb)\n",
    "auc_rfr = roc_auc_score(y_test,y_pred_rfr)\n",
    "\n",
    "# print AUC-score\n",
    "print(f'auc_lr: {auc_lr}, auc_xgb: {auc_xgb}, auc_rfr: {auc_rfr}')"
   ]
  },
  {
   "cell_type": "markdown",
   "id": "68ffd7a0",
   "metadata": {},
   "source": [
    "Note:\n",
    "- The best fit model in this case is Random Forest"
   ]
  },
  {
   "cell_type": "markdown",
   "id": "142ed923",
   "metadata": {},
   "source": [
    "# Part IV : Conclusion"
   ]
  },
  {
   "cell_type": "markdown",
   "id": "8aaec134",
   "metadata": {},
   "source": [
    "From the machine learning models developed and the exploratory data analysis (EDA) conducted, generate four bullet points as your findings."
   ]
  },
  {
   "cell_type": "markdown",
   "id": "70263c25",
   "metadata": {},
   "source": [
    "- There are missing values in the dataset which can be found by using describe()\n",
    "- The outliers must be detected and corrected\n",
    "- The data should be using the same scaling\n",
    "- There are many models that could be tried to find the best fit."
   ]
  }
 ],
 "metadata": {
  "kernelspec": {
   "display_name": "Python 3 (ipykernel)",
   "language": "python",
   "name": "python3"
  },
  "language_info": {
   "codemirror_mode": {
    "name": "ipython",
    "version": 3
   },
   "file_extension": ".py",
   "mimetype": "text/x-python",
   "name": "python",
   "nbconvert_exporter": "python",
   "pygments_lexer": "ipython3",
   "version": "3.11.3"
  }
 },
 "nbformat": 4,
 "nbformat_minor": 5
}
